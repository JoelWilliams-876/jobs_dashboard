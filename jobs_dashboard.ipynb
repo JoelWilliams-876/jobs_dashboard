{
  "nbformat": 4,
  "nbformat_minor": 0,
  "metadata": {
    "colab": {
      "provenance": []
    },
    "kernelspec": {
      "name": "python3",
      "display_name": "Python 3"
    },
    "language_info": {
      "name": "python"
    }
  },
  "cells": [
    {
      "cell_type": "code",
      "execution_count": 5,
      "metadata": {
        "id": "FTpNxrQLf6s_"
      },
      "outputs": [],
      "source": [
        "import pandas as pd\n",
        "import plotly.graph_objects as go\n",
        "\n",
        "# Sample data creation (replace with actual jobs data)\n",
        "class JobsData:\n",
        "    def __init__(self, data):\n",
        "        data = {\n",
        "            'Date': pd.date_range(start='2023-01-01', end='2024-12-01', freq='M'),\n",
        "            'Jobs': [150000 + x * 5000 for x in range(24)]\n",
        "        }\n",
        "    def dataCompile(self):\n",
        "        df = pd.DataFrame(data)\n",
        "        df['Monthly Change'] = df['Jobs'].diff()\n",
        "        df['Quarterly Change'] = df['Jobs'].diff(3)\n",
        "        df['Annual Change'] = df['Jobs'].diff(12)\n",
        "\n",
        "# Create plots for monthly, quarterly, and annual changes\n",
        "\n",
        "    def plot(fig = go.Figure()):\n",
        "        fig.add_trace(go.Scatter(\n",
        "        x=df['Date'], y=df['Monthly Change'], mode='lines+markers', name='Monthly Change'))\n",
        "\n",
        "        fig.add_trace(go.Scatter(\n",
        "        x=df['Date'], y=df['Quarterly Change'], mode='lines+markers', name='Quarterly Change'))\n",
        "\n",
        "        fig.add_trace(go.Scatter(\n",
        "        x=df['Date'], y=df['Annual Change'], mode='lines+markers', name='Annual Change'))\n",
        "\n",
        "# Add titles and layout\n",
        "fig.update_layout(\n",
        "    title=\"Jobs Numbers Over Time\",\n",
        "    xaxis_title=\"Date\",\n",
        "    yaxis_title=\"Jobs Change\",\n",
        "    legend_title=\"Change Type\"\n",
        ")\n",
        "\n",
        "# Save the plot to an HTML file\n",
        "fig.write_html(\"jobs_dashboard.html\")\n",
        "\n",
        "# Instructions:\n",
        "# 1. Commit the `jobs_dashboard.html` file to your GitHub repository.\n",
        "# 2. Enable GitHub Pages in your repository settings, pointing to the main branch.\n",
        "# 3. Access your dashboard at `https://your-username.github.io/your-repository/`.\n"
      ]
    }
  ]
}